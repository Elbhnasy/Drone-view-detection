{
 "cells": [
  {
   "cell_type": "code",
   "execution_count": 1,
   "outputs": [
    {
     "name": "stdout",
     "output_type": "stream",
     "text": [
      "Collecting ultralytics\r\n",
      "  Downloading ultralytics-8.0.71-py3-none-any.whl (510 kB)\r\n",
      "\u001B[2K     \u001B[90m━━━━━━━━━━━━━━━━━━━━━━━━━━━━━━━━━━━━━\u001B[0m \u001B[32m510.7/510.7 kB\u001B[0m \u001B[31m665.5 kB/s\u001B[0m eta \u001B[36m0:00:00\u001B[0ma \u001B[36m0:00:01\u001B[0m\r\n",
      "\u001B[?25hRequirement already satisfied: tqdm>=4.64.0 in /home/fox/AICoding/envs/Torch/lib/python3.10/site-packages (from ultralytics) (4.64.1)\r\n",
      "Requirement already satisfied: pandas>=1.1.4 in /home/fox/AICoding/envs/Torch/lib/python3.10/site-packages (from ultralytics) (1.3.5)\r\n",
      "Requirement already satisfied: requests>=2.23.0 in /home/fox/AICoding/envs/Torch/lib/python3.10/site-packages (from ultralytics) (2.28.1)\r\n",
      "Requirement already satisfied: scipy>=1.4.1 in /home/fox/AICoding/envs/Torch/lib/python3.10/site-packages (from ultralytics) (1.10.0)\r\n",
      "Requirement already satisfied: seaborn>=0.11.0 in /home/fox/AICoding/envs/Torch/lib/python3.10/site-packages (from ultralytics) (0.12.1)\r\n",
      "Requirement already satisfied: opencv-python>=4.6.0 in /home/fox/AICoding/envs/Torch/lib/python3.10/site-packages (from ultralytics) (4.6.0.66)\r\n",
      "Requirement already satisfied: torch>=1.7.0 in /home/fox/AICoding/envs/Torch/lib/python3.10/site-packages (from ultralytics) (1.13.0)\r\n",
      "Requirement already satisfied: torchvision>=0.8.1 in /home/fox/AICoding/envs/Torch/lib/python3.10/site-packages (from ultralytics) (0.14.0)\r\n",
      "Requirement already satisfied: psutil in /home/fox/AICoding/envs/Torch/lib/python3.10/site-packages (from ultralytics) (5.9.4)\r\n",
      "Collecting sentry-sdk\r\n",
      "  Downloading sentry_sdk-1.19.1-py2.py3-none-any.whl (199 kB)\r\n",
      "\u001B[2K     \u001B[90m━━━━━━━━━━━━━━━━━━━━━━━━━━━━━━━━━━━━━\u001B[0m \u001B[32m199.2/199.2 kB\u001B[0m \u001B[31m699.1 kB/s\u001B[0m eta \u001B[36m0:00:00\u001B[0m00:01\u001B[0m00:01\u001B[0m\r\n",
      "\u001B[?25hRequirement already satisfied: numpy>=1.21.6 in /home/fox/AICoding/envs/Torch/lib/python3.10/site-packages (from ultralytics) (1.23.4)\r\n",
      "Requirement already satisfied: PyYAML>=5.3.1 in /home/fox/AICoding/envs/Torch/lib/python3.10/site-packages (from ultralytics) (6.0)\r\n",
      "Requirement already satisfied: thop>=0.1.1 in /home/fox/AICoding/envs/Torch/lib/python3.10/site-packages (from ultralytics) (0.1.1.post2209072238)\r\n",
      "Requirement already satisfied: Pillow>=7.1.2 in /home/fox/AICoding/envs/Torch/lib/python3.10/site-packages (from ultralytics) (9.3.0)\r\n",
      "Requirement already satisfied: matplotlib>=3.2.2 in /home/fox/AICoding/envs/Torch/lib/python3.10/site-packages (from ultralytics) (3.6.2)\r\n",
      "Requirement already satisfied: python-dateutil>=2.7 in /home/fox/AICoding/envs/Torch/lib/python3.10/site-packages (from matplotlib>=3.2.2->ultralytics) (2.8.2)\r\n",
      "Requirement already satisfied: kiwisolver>=1.0.1 in /home/fox/AICoding/envs/Torch/lib/python3.10/site-packages (from matplotlib>=3.2.2->ultralytics) (1.4.4)\r\n",
      "Requirement already satisfied: fonttools>=4.22.0 in /home/fox/AICoding/envs/Torch/lib/python3.10/site-packages (from matplotlib>=3.2.2->ultralytics) (4.38.0)\r\n",
      "Requirement already satisfied: contourpy>=1.0.1 in /home/fox/AICoding/envs/Torch/lib/python3.10/site-packages (from matplotlib>=3.2.2->ultralytics) (1.0.6)\r\n",
      "Requirement already satisfied: cycler>=0.10 in /home/fox/AICoding/envs/Torch/lib/python3.10/site-packages (from matplotlib>=3.2.2->ultralytics) (0.10.0)\r\n",
      "Requirement already satisfied: pyparsing>=2.2.1 in /home/fox/AICoding/envs/Torch/lib/python3.10/site-packages (from matplotlib>=3.2.2->ultralytics) (2.4.7)\r\n",
      "Requirement already satisfied: packaging>=20.0 in /home/fox/AICoding/envs/Torch/lib/python3.10/site-packages (from matplotlib>=3.2.2->ultralytics) (20.9)\r\n",
      "Requirement already satisfied: pytz>=2017.3 in /home/fox/AICoding/envs/Torch/lib/python3.10/site-packages (from pandas>=1.1.4->ultralytics) (2022.6)\r\n",
      "Requirement already satisfied: idna<4,>=2.5 in /home/fox/AICoding/envs/Torch/lib/python3.10/site-packages (from requests>=2.23.0->ultralytics) (2.10)\r\n",
      "Requirement already satisfied: certifi>=2017.4.17 in /home/fox/AICoding/envs/Torch/lib/python3.10/site-packages (from requests>=2.23.0->ultralytics) (2022.12.7)\r\n",
      "Requirement already satisfied: charset-normalizer<3,>=2 in /home/fox/AICoding/envs/Torch/lib/python3.10/site-packages (from requests>=2.23.0->ultralytics) (2.1.1)\r\n",
      "Requirement already satisfied: urllib3<1.27,>=1.21.1 in /home/fox/AICoding/envs/Torch/lib/python3.10/site-packages (from requests>=2.23.0->ultralytics) (1.26.13)\r\n",
      "Requirement already satisfied: nvidia-cuda-runtime-cu11==11.7.99 in /home/fox/AICoding/envs/Torch/lib/python3.10/site-packages (from torch>=1.7.0->ultralytics) (11.7.99)\r\n",
      "Requirement already satisfied: typing-extensions in /home/fox/AICoding/envs/Torch/lib/python3.10/site-packages (from torch>=1.7.0->ultralytics) (4.4.0)\r\n",
      "Requirement already satisfied: nvidia-cuda-nvrtc-cu11==11.7.99 in /home/fox/AICoding/envs/Torch/lib/python3.10/site-packages (from torch>=1.7.0->ultralytics) (11.7.99)\r\n",
      "Requirement already satisfied: nvidia-cudnn-cu11==8.5.0.96 in /home/fox/AICoding/envs/Torch/lib/python3.10/site-packages (from torch>=1.7.0->ultralytics) (8.5.0.96)\r\n",
      "Requirement already satisfied: nvidia-cublas-cu11==11.10.3.66 in /home/fox/AICoding/envs/Torch/lib/python3.10/site-packages (from torch>=1.7.0->ultralytics) (11.10.3.66)\r\n",
      "Requirement already satisfied: setuptools in /home/fox/AICoding/envs/Torch/lib/python3.10/site-packages (from nvidia-cublas-cu11==11.10.3.66->torch>=1.7.0->ultralytics) (59.6.0)\r\n",
      "Requirement already satisfied: wheel in /home/fox/AICoding/envs/Torch/lib/python3.10/site-packages (from nvidia-cublas-cu11==11.10.3.66->torch>=1.7.0->ultralytics) (0.38.4)\r\n",
      "Requirement already satisfied: six in /home/fox/AICoding/envs/Torch/lib/python3.10/site-packages (from cycler>=0.10->matplotlib>=3.2.2->ultralytics) (1.16.0)\r\n",
      "Installing collected packages: sentry-sdk, ultralytics\r\n",
      "Successfully installed sentry-sdk-1.19.1 ultralytics-8.0.71\r\n"
     ]
    }
   ],
   "source": [
    "!pip install ultralytics"
   ],
   "metadata": {
    "collapsed": false,
    "ExecuteTime": {
     "start_time": "2023-04-09T16:08:43.756025Z",
     "end_time": "2023-04-09T16:08:50.714644Z"
    }
   }
  },
  {
   "cell_type": "code",
   "execution_count": null,
   "metadata": {
    "collapsed": true
   },
   "outputs": [],
   "source": [
    "import cvzone\n",
    "from ultralytics import YOLO\n",
    "import cv2\n",
    "import math\n",
    "import numpy as np\n",
    "\n",
    "#cap = cv2.VideoCapture(2)\n",
    "cap = cv2.VideoCapture(\"images/satlite.mp4\")\n",
    "model = YOLO(\"/home/fox/AICoding/NNProject/best.pt\")\n",
    "\n",
    "\n",
    "\n",
    "classNames = [\"airport\", \"baseball-diamond\", \"basketball-court\", \"beach\", \"bridge\", \"chaparral\", \"church\",\n",
    "              \"circular-farmland\", \"cloud\",\"commercial-area\", \"dense-residential\", \"desert\", \"forest\", \"freeway\", \"golf-course\", \"ground-track-field\",\"harbor\", \"industrial-area\", \"intersection\", \"island\", \"lake\", \"meadow\", \"medium-residential\", \"mobile-home-park\", \"mountain\", \"overpass\",\"palace\", \"tparking-lot\",\n",
    "              \"railway-line\", \"railway-station\", \"rectangular-farmland\", \"river\", \"roundabout\", \"runway\", \"sea-ice\",\n",
    "              \"snowberg\", \"sparse-residential\", \"stadium\", \"storage-tank\", \"tennis-court\", \"terrace\", \"thermal-power-plant\",\"wetland\"]\n",
    "\n",
    "\n",
    "while True:\n",
    "    success, img = cap.read()\n",
    "    results = model(img, stream=True)\n",
    "    for r in results:\n",
    "        boxes = r.boxes\n",
    "        for box in boxes:\n",
    "            x1, y1, x2, y2 = box.xyxy[0]\n",
    "            x1, y1, x2, y2 = int(x1), int(y1), int(x2), int(y2)\n",
    "            w, h = x2 - x1, y2 - y1\n",
    "            cvzone.cornerRect(img, (x1, y1, w, h))\n",
    "            conf = math.ceil((box.conf[0] * 100)) / 100\n",
    "            cls = int(box.cls[0])\n",
    "            cvzone.putTextRect(img, f'{classNames[cls]} {conf}', (max(0, x1), max(35, y1)), scale = 0.7, thickness = 1)\n",
    "\n",
    "\n",
    "    cv2.imshow(\"Webcam\", img)\n",
    "    if cv2.waitKey(1) & 0xff == ord('q'):\n",
    "        break\n",
    "cap.release()\n",
    "cv2.destroyAllWindows()"
   ]
  },
  {
   "cell_type": "code",
   "execution_count": null,
   "outputs": [],
   "source": [],
   "metadata": {
    "collapsed": false
   }
  }
 ],
 "metadata": {
  "kernelspec": {
   "display_name": "Python 3",
   "language": "python",
   "name": "python3"
  },
  "language_info": {
   "codemirror_mode": {
    "name": "ipython",
    "version": 2
   },
   "file_extension": ".py",
   "mimetype": "text/x-python",
   "name": "python",
   "nbconvert_exporter": "python",
   "pygments_lexer": "ipython2",
   "version": "2.7.6"
  }
 },
 "nbformat": 4,
 "nbformat_minor": 0
}
